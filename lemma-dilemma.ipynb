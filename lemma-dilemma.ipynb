{
 "cells": [
  {
   "cell_type": "markdown",
   "metadata": {},
   "source": [
    "# Lemma dilemma"
   ]
  },
  {
   "cell_type": "markdown",
   "metadata": {},
   "source": [
    "*Creator: Magnus Struckmann*\n",
    "## Table of contents\n",
    "\n",
    "- Notebook summary\n",
    "- Create data sets"
   ]
  },
  {
   "cell_type": "markdown",
   "metadata": {},
   "source": [
    "### Notebook summary\n",
    "\n",
    "Based on the program developed in the lecture (SparseRandomProjections), analyze a database of your choice (but not exactly the same digits data as in the lecture) using random projections.\n",
    "Study the accuracy (or a score of your choice that makes most sense for your data) as a function of the number of dimensions / features that survived the random projection."
   ]
  },
  {
   "cell_type": "code",
   "execution_count": null,
   "metadata": {},
   "outputs": [],
   "source": [
    "# Import packages\n",
    "import pandas as pd\n",
    "import numpy as np\n",
    "import plotly\n",
    "import plotly.graph_objects as go\n",
    "from sklearn import datasets"
   ]
  },
  {
   "cell_type": "markdown",
   "metadata": {},
   "source": [
    "### Create data sets"
   ]
  },
  {
   "cell_type": "code",
   "execution_count": null,
   "metadata": {},
   "outputs": [],
   "source": [
    "data_collection = []\n"
   ]
  },
  {
   "cell_type": "markdown",
   "metadata": {},
   "source": [
    "3D scatter plot \n",
    "x = dimensions/eps \n",
    "y = compute time \n",
    "z = accuracy/f1 score\n",
    "3D heat map \n",
    "x = pairwise squared distances in original space \n",
    "y = pairwise squared distances in projected space \n",
    "z = n_components\n",
    "3D \"histogram\"\n",
    "x = squared distance rates original/projected\n",
    "y = n_components\n",
    "z = distribution of sample pairs\n",
    "#scatter plot accuracy vs compute time (x=)"
   ]
  },
  {
   "cell_type": "markdown",
   "metadata": {},
   "source": [
    "The Olivetti faces dataset\n",
    "Classes 40\n",
    "Samples total 400\n",
    "Dimensionality 4096\n",
    "Features real, between 0 and 1\n",
    "\n",
    "The Labeled Faces in the Wild face recognition dataset\n",
    "Classes 5749\n",
    "Samples 13233\n",
    "Dimensionality 5828\n",
    "Features real, between 0 and 255\n",
    "\n",
    "Forest covertypes\n",
    "Classes 7\n",
    "Samples 581012\n",
    "Dimensionality 54\n",
    "Features int"
   ]
  }
 ],
 "metadata": {
  "kernelspec": {
   "display_name": "Python 3",
   "language": "python",
   "name": "python3"
  },
  "language_info": {
   "codemirror_mode": {
    "name": "ipython",
    "version": 3
   },
   "file_extension": ".py",
   "mimetype": "text/x-python",
   "name": "python",
   "nbconvert_exporter": "python",
   "pygments_lexer": "ipython3",
   "version": "3.7.7"
  }
 },
 "nbformat": 4,
 "nbformat_minor": 4
}
