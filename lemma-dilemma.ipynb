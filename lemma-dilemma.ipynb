{
 "cells": [
  {
   "cell_type": "markdown",
   "metadata": {},
   "source": [
    "# Lemma dilemma"
   ]
  },
  {
   "cell_type": "markdown",
   "metadata": {},
   "source": [
    "*Creators: Christopher Schmitz & Magnus Struckmann*\n",
    "## Table of contents\n",
    "\n",
    "- Notebook summary\n",
    "- Data visualization\n",
    "- Data preparation\n",
    "- Accuracy line chart\n",
    "- Histogram of ratio projected data points to original data points"
   ]
  },
  {
   "cell_type": "markdown",
   "metadata": {},
   "source": [
    "### Notebook summary\n",
    "\n",
    "Based on the program developed in the lecture (SparseRandomProjections), analyze a database of your choice (but not exactly the same digits data as in the lecture) using random projections.\n",
    "Study the accuracy (or a score of your choice that makes most sense for your data) as a function of the number of dimensions / features that survived the random projection."
   ]
  },
  {
   "cell_type": "code",
   "execution_count": null,
   "metadata": {},
   "outputs": [],
   "source": [
    "# Import packages\n",
    "import pandas as pd\n",
    "import numpy as np\n",
    "import plotly\n",
    "import plotly.graph_objects as go\n",
    "from sklearn.datasets import fetch_olivetti_faces # ten different images of 40 distinct subjects, n = 400, dim = 4096\n",
    "from sklearn.random_projection import johnson_lindenstrauss_min_dim\n",
    "from sklearn.random_projection import SparseRandomProjection\n",
    "from sklearn.metrics.pairwise import euclidean_distances\n",
    "from sklearn.svm import LinearSVC\n",
    "from sklearn.model_selection import train_test_split\n",
    "from sklearn import metrics"
   ]
  },
  {
   "cell_type": "markdown",
   "metadata": {},
   "source": [
    "### Data visualization"
   ]
  },
  {
   "cell_type": "code",
   "execution_count": null,
   "metadata": {},
   "outputs": [],
   "source": [
    "X, y = fetch_olivetti_faces(return_X_y=True, shuffle=True) # for further details call 'print(data.DESCR)'"
   ]
  },
  {
   "cell_type": "code",
   "execution_count": null,
   "metadata": {},
   "outputs": [],
   "source": [
    "example = X[0]\n",
    "example = example.reshape((64, 64))\n",
    "fig = go.Figure(data=go.Heatmap(z=example, colorscale=[[0,'rgb(0, 0, 0)'], [1.0,'rgb(255, 255, 255)']]))\n",
    "fig.update_layout(width=400, height=400)\n",
    "fig.show()"
   ]
  },
  {
   "cell_type": "markdown",
   "metadata": {},
   "source": [
    "### Data preparation"
   ]
  },
  {
   "cell_type": "code",
   "execution_count": null,
   "metadata": {},
   "outputs": [],
   "source": [
    "JL_min_dim = johnson_lindenstrauss_min_dim(400,eps=0.1)\n",
    "print (\"Johnson and Lindenstrauss k >=\", JL_min_dim)"
   ]
  },
  {
   "cell_type": "code",
   "execution_count": null,
   "metadata": {},
   "outputs": [],
   "source": [
    "dists = euclidean_distances(X, squared=True).ravel()\n",
    "nonzero = dists != 0 # select only non-identical samples pairs\n",
    "dists = dists[nonzero]"
   ]
  },
  {
   "cell_type": "code",
   "execution_count": null,
   "metadata": {},
   "outputs": [],
   "source": [
    "X_train, X_test, y_train, y_test = train_test_split(X, y, test_size=0.3, random_state=1005)\n",
    "model = LinearSVC(dual=False) # dual=False because: number of features > number of examples\n",
    "model.fit(X_train, y_train)\n",
    "baseline = metrics.accuracy_score(model.predict(X_test), y_test)"
   ]
  },
  {
   "cell_type": "code",
   "execution_count": null,
   "metadata": {},
   "outputs": [],
   "source": [
    "data_collection = []\n",
    "for n_components in np.arange(25, 525, 25): # Step size number of components in random sparse projection\n",
    "    n_components = int(round(n_components,0))\n",
    "    \n",
    "    rp = SparseRandomProjection(n_components=n_components, random_state=1005)\n",
    "    X_rp = rp.fit_transform(X)\n",
    "    X_train_rp = rp.fit_transform(X_train)\n",
    "    X_test_rp = rp.transform(X_test)    \n",
    "    \n",
    "    model = LinearSVC(dual=False,random_state=1005)\n",
    "    model.fit(X_train_rp, y_train)\n",
    "    accuracy = metrics.accuracy_score(model.predict(X_test_rp), y_test)\n",
    "    \n",
    "    projected_dists = euclidean_distances(X_rp, squared=True).ravel()[nonzero]\n",
    "    rates = projected_dists / dists\n",
    " \n",
    "    step_dict = dict(n_components=n_components,\n",
    "                     accuracy=accuracy,\n",
    "                     projected_dists=projected_dists,\n",
    "                     rates=rates)\n",
    "    \n",
    "    data_collection.append(step_dict)"
   ]
  },
  {
   "cell_type": "markdown",
   "metadata": {},
   "source": [
    "### Accuracy line chart"
   ]
  },
  {
   "cell_type": "code",
   "execution_count": null,
   "metadata": {},
   "outputs": [],
   "source": [
    "fig = go.Figure()\n",
    "\n",
    "y_rp = []\n",
    "y_bl = []\n",
    "x = []\n",
    "\n",
    "for step_dict in data_collection:\n",
    "    y_rp.append(step_dict['accuracy'])\n",
    "    y_bl.append(baseline)\n",
    "    x.append(step_dict['n_components'])\n",
    "\n",
    "fig.add_trace(go.Scatter(x=x, \n",
    "                         y=y_rp,\n",
    "                         mode='lines',\n",
    "                         name='Random projection accuracy'))\n",
    "\n",
    "fig.add_trace(go.Scatter(x=x, \n",
    "                         y=y_bl,\n",
    "                         mode='lines',\n",
    "                         name='Baseline accuracy'))\n",
    "\n",
    "fig.update_layout(title={'text':'Model accuracy','y':0.9,'x':0.4,'xanchor':'center','yanchor':'top'},\n",
    "                  xaxis_title=\"Number of components in random sparse projection\",\n",
    "                  yaxis_title=\"Accuracy\")\n",
    "\n",
    "fig.show()"
   ]
  },
  {
   "cell_type": "markdown",
   "metadata": {},
   "source": [
    "### Histogram of ratio projected data points to original data points"
   ]
  },
  {
   "cell_type": "code",
   "execution_count": null,
   "metadata": {},
   "outputs": [],
   "source": [
    "fig = go.Figure()\n",
    "\n",
    "# Add traces, one for each slider step\n",
    "for step_dict in data_collection:\n",
    "    x = step_dict['rates']\n",
    "\n",
    "    trace = go.Histogram(x=x,\n",
    "                         xbins=dict(size=0.002),\n",
    "                         visible=False)\n",
    "\n",
    "    fig.update_xaxes(range=[0.5, 1.5])\n",
    "    fig.update_yaxes(range=[0, 2100])\n",
    "    \n",
    "    fig.add_trace(trace)\n",
    "        \n",
    "# Make 5th trace visible\n",
    "fig.data[5].visible = True"
   ]
  },
  {
   "cell_type": "code",
   "execution_count": null,
   "metadata": {},
   "outputs": [],
   "source": [
    "# Create and add slider\n",
    "def create_sliders(data_collection):\n",
    "    steps = []\n",
    "    for i,step_dict in enumerate(data_collection):\n",
    "        step = dict(\n",
    "            method=\"restyle\",\n",
    "            args=[\"visible\", [False] * len(data_collection)],\n",
    "            label=str(step_dict['n_components']),\n",
    "        )\n",
    "        step[\"args\"][1][i] = True  # Toggle i'th trace to \"visible\"\n",
    "        steps.append(step)\n",
    "\n",
    "    sliders = [dict(\n",
    "        active=5,\n",
    "        currentvalue={\"prefix\": \"N components: \"},\n",
    "        pad={\"t\":len(data_collection)},\n",
    "        steps=steps\n",
    "    )]\n",
    "    return sliders"
   ]
  },
  {
   "cell_type": "code",
   "execution_count": null,
   "metadata": {},
   "outputs": [],
   "source": [
    "# Show plot\n",
    "fig.update_layout(\n",
    "    sliders=create_sliders(data_collection),\n",
    "    xaxis=dict(title='Squared distances rate projected / original'),\n",
    "    yaxis=dict(title='Distribuation of sample pairs'))\n",
    "\n",
    "fig.show()"
   ]
  }
 ],
 "metadata": {
  "kernelspec": {
   "display_name": "Python 3",
   "language": "python",
   "name": "python3"
  },
  "language_info": {
   "codemirror_mode": {
    "name": "ipython",
    "version": 3
   },
   "file_extension": ".py",
   "mimetype": "text/x-python",
   "name": "python",
   "nbconvert_exporter": "python",
   "pygments_lexer": "ipython3",
   "version": "3.7.7"
  }
 },
 "nbformat": 4,
 "nbformat_minor": 4
}
